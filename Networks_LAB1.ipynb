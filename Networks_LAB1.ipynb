{
  "nbformat": 4,
  "nbformat_minor": 0,
  "metadata": {
    "colab": {
      "name": "Networks_LAB1.ipynb",
      "provenance": [],
      "collapsed_sections": []
    },
    "kernelspec": {
      "name": "python3",
      "display_name": "Python 3"
    }
  },
  "cells": [
    {
      "cell_type": "code",
      "metadata": {
        "id": "vIoqSIWvVWBD",
        "outputId": "e90f9b26-cdca-45a2-ba96-2f21482eef01",
        "colab": {
          "base_uri": "https://localhost:8080/",
          "height": 136
        }
      },
      "source": [
        "pip install nslookup"
      ],
      "execution_count": 2,
      "outputs": [
        {
          "output_type": "stream",
          "text": [
            "Collecting nslookup\n",
            "  Downloading https://files.pythonhosted.org/packages/43/97/ff499f1b6e52eeaa2f89ea0d59dff9bf31eea9982d5d7714b04591f0b0a7/nslookup-1.1.1-py3-none-any.whl\n",
            "Collecting dnspython\n",
            "\u001b[?25l  Downloading https://files.pythonhosted.org/packages/90/49/cb426577c28ca3e35332815b795a99e467523843fc83cc85ca0d6be2515a/dnspython-2.0.0-py3-none-any.whl (208kB)\n",
            "\u001b[K     |████████████████████████████████| 215kB 2.9MB/s \n",
            "\u001b[?25hInstalling collected packages: dnspython, nslookup\n",
            "Successfully installed dnspython-2.0.0 nslookup-1.1.1\n"
          ],
          "name": "stdout"
        }
      ]
    },
    {
      "cell_type": "code",
      "metadata": {
        "id": "RTAd5qLF5wpT",
        "outputId": "e1e2c574-f50d-4bf0-fc2d-ea5a9e1e112a",
        "colab": {
          "base_uri": "https://localhost:8080/",
          "height": 34
        }
      },
      "source": [
        "pip install dnspython"
      ],
      "execution_count": 3,
      "outputs": [
        {
          "output_type": "stream",
          "text": [
            "Requirement already satisfied: dnspython in /usr/local/lib/python3.6/dist-packages (2.0.0)\n"
          ],
          "name": "stdout"
        }
      ]
    },
    {
      "cell_type": "markdown",
      "metadata": {
        "id": "uFtdKy2zUtOW"
      },
      "source": [
        "FOR IP ADDRESS"
      ]
    },
    {
      "cell_type": "code",
      "metadata": {
        "id": "khedPRJQ4S_n"
      },
      "source": [
        "import dns.resolver\n",
        "from nslookup import Nslookup\n",
        "import dns.flags"
      ],
      "execution_count": 4,
      "outputs": []
    },
    {
      "cell_type": "code",
      "metadata": {
        "id": "A3KjNg2EVh3f",
        "outputId": "558aae78-1ecd-41b5-92f4-e81ec2f0f46c",
        "colab": {
          "base_uri": "https://localhost:8080/",
          "height": 34
        }
      },
      "source": [
        "domain=input()"
      ],
      "execution_count": 5,
      "outputs": [
        {
          "output_type": "stream",
          "text": [
            "www.google.com\n"
          ],
          "name": "stdout"
        }
      ]
    },
    {
      "cell_type": "code",
      "metadata": {
        "id": "_FBScs3eWTWt",
        "outputId": "63bc0498-2331-4b07-f3ba-6a898b7df2ee",
        "colab": {
          "base_uri": "https://localhost:8080/",
          "height": 119
        }
      },
      "source": [
        "result = dns.resolver.resolve(domain,'A')\n",
        "for ipval in result:\n",
        "    print('IP', ipval.to_text())"
      ],
      "execution_count": 6,
      "outputs": [
        {
          "output_type": "stream",
          "text": [
            "IP 64.233.189.99\n",
            "IP 64.233.189.103\n",
            "IP 64.233.189.106\n",
            "IP 64.233.189.104\n",
            "IP 64.233.189.105\n",
            "IP 64.233.189.147\n"
          ],
          "name": "stdout"
        }
      ]
    },
    {
      "cell_type": "markdown",
      "metadata": {
        "id": "tzVceD03Uxp5"
      },
      "source": [
        "FOR CNAME"
      ]
    },
    {
      "cell_type": "code",
      "metadata": {
        "id": "UX-PZy539oHf",
        "outputId": "5b9447f7-9e4a-4c1e-be29-45f74da39be2",
        "colab": {
          "base_uri": "https://localhost:8080/",
          "height": 34
        }
      },
      "source": [
        "try:\n",
        "  result1  = dns.resolver.resolve(domain,'CNAME')\n",
        "  for cnameval in result1:\n",
        "      print (' CNAME target address:', cnameval.target)\n",
        "except:\n",
        "   print(\"Not Available\")"
      ],
      "execution_count": 7,
      "outputs": [
        {
          "output_type": "stream",
          "text": [
            "Not Available\n"
          ],
          "name": "stdout"
        }
      ]
    },
    {
      "cell_type": "markdown",
      "metadata": {
        "id": "s4MiMr40Uzwf"
      },
      "source": [
        "FOR MX RECORD"
      ]
    },
    {
      "cell_type": "code",
      "metadata": {
        "id": "pEIq9RFy-MsE",
        "outputId": "966a8f74-8e14-4624-8718-002b013b7e4a",
        "colab": {
          "base_uri": "https://localhost:8080/",
          "height": 34
        }
      },
      "source": [
        "try:\n",
        "  result1  = dns.resolver.resolve(domain,'MX')\n",
        "  for cnameval in result1:\n",
        "      print (' MX target address:', cnameval.target)\n",
        "except:\n",
        "   print(\"Not Available\")"
      ],
      "execution_count": 8,
      "outputs": [
        {
          "output_type": "stream",
          "text": [
            "Not Available\n"
          ],
          "name": "stdout"
        }
      ]
    },
    {
      "cell_type": "markdown",
      "metadata": {
        "id": "SEdBBj4TcRMF"
      },
      "source": [
        "FOR AAA"
      ]
    },
    {
      "cell_type": "code",
      "metadata": {
        "id": "SoWUZwi87v6W",
        "outputId": "cc7e5108-d7af-4bba-ed56-94e228b08dfb",
        "colab": {
          "base_uri": "https://localhost:8080/",
          "height": 34
        }
      },
      "source": [
        "try:\n",
        "  answer = dns.resolver.resolve(domain,\"AAA\")\n",
        "  for aaa in answer:\n",
        "    print('AAA', ns.to_text())\n",
        "except:\n",
        "  print(\"Not Available\")"
      ],
      "execution_count": 9,
      "outputs": [
        {
          "output_type": "stream",
          "text": [
            "Not Available\n"
          ],
          "name": "stdout"
        }
      ]
    },
    {
      "cell_type": "markdown",
      "metadata": {
        "id": "6aHecG_acYl4"
      },
      "source": [
        "FOR NS"
      ]
    },
    {
      "cell_type": "code",
      "metadata": {
        "id": "8skjuK0zcavn",
        "outputId": "5b6a5d31-5b4d-4cbe-dd66-579461b0ee86",
        "colab": {
          "base_uri": "https://localhost:8080/",
          "height": 34
        }
      },
      "source": [
        "try:\n",
        "  answer = dns.resolver.resolve(domain,\"NS\")\n",
        "  for ns in answer:\n",
        "    print(ns.to_text())\n",
        "except:\n",
        "  print(\"Not Available\")"
      ],
      "execution_count": 10,
      "outputs": [
        {
          "output_type": "stream",
          "text": [
            "Not Available\n"
          ],
          "name": "stdout"
        }
      ]
    },
    {
      "cell_type": "markdown",
      "metadata": {
        "id": "RoRHTVB4dIZZ"
      },
      "source": [
        "FOR TXT"
      ]
    },
    {
      "cell_type": "code",
      "metadata": {
        "id": "RVloL1TDcjuV",
        "outputId": "16164607-0277-4bd3-fe6c-b3c66504ff9a",
        "colab": {
          "base_uri": "https://localhost:8080/",
          "height": 34
        }
      },
      "source": [
        "try:\n",
        "  answer = dns.resolver.resolve(domain,\"TXT\")\n",
        "  for txt in answer:\n",
        "    print('TXT', txt.to_text())\n",
        "except:\n",
        "  print(\"Not Available\")"
      ],
      "execution_count": 11,
      "outputs": [
        {
          "output_type": "stream",
          "text": [
            "Not Available\n"
          ],
          "name": "stdout"
        }
      ]
    },
    {
      "cell_type": "markdown",
      "metadata": {
        "id": "kFUzf897dWnU"
      },
      "source": [
        "FOR SOA"
      ]
    },
    {
      "cell_type": "code",
      "metadata": {
        "id": "VQR0YRu_dUIo",
        "outputId": "6aebf5d7-28eb-4cfd-b675-5cd684d82cfe",
        "colab": {
          "base_uri": "https://localhost:8080/",
          "height": 34
        }
      },
      "source": [
        "try:\n",
        "  answer = dns.resolver.resolve(domain,\"SOA\")\n",
        "  for soa in answer:\n",
        "    print('SOA', txt.to_text())\n",
        "except:\n",
        "  print(\"Not Available\")"
      ],
      "execution_count": 12,
      "outputs": [
        {
          "output_type": "stream",
          "text": [
            "Not Available\n"
          ],
          "name": "stdout"
        }
      ]
    },
    {
      "cell_type": "code",
      "metadata": {
        "id": "M1rAHuU-82Qz",
        "outputId": "78d0f1e1-4064-4c53-b988-e14f4c10907b",
        "colab": {
          "base_uri": "https://localhost:8080/",
          "height": 102
        }
      },
      "source": [
        "pip install tld"
      ],
      "execution_count": 13,
      "outputs": [
        {
          "output_type": "stream",
          "text": [
            "Collecting tld\n",
            "\u001b[?25l  Downloading https://files.pythonhosted.org/packages/3d/8f/32f3e61027495ce2822f32280178440e40bcf6038c8d66704d7caf4d3850/tld-0.12.2-py36-none-any.whl (329kB)\n",
            "\r\u001b[K     |█                               | 10kB 18.1MB/s eta 0:00:01\r\u001b[K     |██                              | 20kB 1.7MB/s eta 0:00:01\r\u001b[K     |███                             | 30kB 2.1MB/s eta 0:00:01\r\u001b[K     |████                            | 40kB 2.4MB/s eta 0:00:01\r\u001b[K     |█████                           | 51kB 1.9MB/s eta 0:00:01\r\u001b[K     |██████                          | 61kB 2.2MB/s eta 0:00:01\r\u001b[K     |███████                         | 71kB 2.4MB/s eta 0:00:01\r\u001b[K     |████████                        | 81kB 2.6MB/s eta 0:00:01\r\u001b[K     |█████████                       | 92kB 2.8MB/s eta 0:00:01\r\u001b[K     |██████████                      | 102kB 2.7MB/s eta 0:00:01\r\u001b[K     |███████████                     | 112kB 2.7MB/s eta 0:00:01\r\u001b[K     |████████████                    | 122kB 2.7MB/s eta 0:00:01\r\u001b[K     |█████████████                   | 133kB 2.7MB/s eta 0:00:01\r\u001b[K     |██████████████                  | 143kB 2.7MB/s eta 0:00:01\r\u001b[K     |███████████████                 | 153kB 2.7MB/s eta 0:00:01\r\u001b[K     |███████████████▉                | 163kB 2.7MB/s eta 0:00:01\r\u001b[K     |████████████████▉               | 174kB 2.7MB/s eta 0:00:01\r\u001b[K     |█████████████████▉              | 184kB 2.7MB/s eta 0:00:01\r\u001b[K     |██████████████████▉             | 194kB 2.7MB/s eta 0:00:01\r\u001b[K     |███████████████████▉            | 204kB 2.7MB/s eta 0:00:01\r\u001b[K     |████████████████████▉           | 215kB 2.7MB/s eta 0:00:01\r\u001b[K     |█████████████████████▉          | 225kB 2.7MB/s eta 0:00:01\r\u001b[K     |██████████████████████▉         | 235kB 2.7MB/s eta 0:00:01\r\u001b[K     |███████████████████████▉        | 245kB 2.7MB/s eta 0:00:01\r\u001b[K     |████████████████████████▉       | 256kB 2.7MB/s eta 0:00:01\r\u001b[K     |█████████████████████████▉      | 266kB 2.7MB/s eta 0:00:01\r\u001b[K     |██████████████████████████▉     | 276kB 2.7MB/s eta 0:00:01\r\u001b[K     |███████████████████████████▉    | 286kB 2.7MB/s eta 0:00:01\r\u001b[K     |████████████████████████████▉   | 296kB 2.7MB/s eta 0:00:01\r\u001b[K     |█████████████████████████████▉  | 307kB 2.7MB/s eta 0:00:01\r\u001b[K     |██████████████████████████████▉ | 317kB 2.7MB/s eta 0:00:01\r\u001b[K     |███████████████████████████████▊| 327kB 2.7MB/s eta 0:00:01\r\u001b[K     |████████████████████████████████| 337kB 2.7MB/s \n",
            "\u001b[?25hInstalling collected packages: tld\n",
            "Successfully installed tld-0.12.2\n"
          ],
          "name": "stdout"
        }
      ]
    },
    {
      "cell_type": "markdown",
      "metadata": {
        "id": "IdOkeh-6-pYU"
      },
      "source": [
        "ROOT NAME SERVER"
      ]
    },
    {
      "cell_type": "code",
      "metadata": {
        "id": "JnHmmI9I8mqs",
        "outputId": "de66574c-98df-4caf-abaa-372ce4126511",
        "colab": {
          "base_uri": "https://localhost:8080/",
          "height": 34
        }
      },
      "source": [
        "from tld import get_tld\n",
        "url = 'https://www.google.com' #URL to strip. Change this URL to whatever you want.\n",
        "res = get_tld(url, as_object=True) #Get the root as an object\n",
        "print (res.fld) #res.fld to extract the domain"
      ],
      "execution_count": 14,
      "outputs": [
        {
          "output_type": "stream",
          "text": [
            "google.com\n"
          ],
          "name": "stdout"
        }
      ]
    },
    {
      "cell_type": "markdown",
      "metadata": {
        "id": "Tqnw8Sp3-r1A"
      },
      "source": [
        "TLD Name Server"
      ]
    },
    {
      "cell_type": "code",
      "metadata": {
        "id": "FhlOEgoM9cbR",
        "outputId": "ed63a3d9-dd0e-43ff-c10a-87d34d9f08d3",
        "colab": {
          "base_uri": "https://localhost:8080/",
          "height": 34
        }
      },
      "source": [
        "from tld import get_tld\n",
        "# 'co.uk'\n",
        "print(get_tld(\"http://www.google.com\", fail_silently=True))"
      ],
      "execution_count": 15,
      "outputs": [
        {
          "output_type": "stream",
          "text": [
            "com\n"
          ],
          "name": "stdout"
        }
      ]
    },
    {
      "cell_type": "markdown",
      "metadata": {
        "id": "-xn8E7im-wMi"
      },
      "source": [
        "Authoritative Name Server(NS)"
      ]
    },
    {
      "cell_type": "code",
      "metadata": {
        "id": "Sara1PC78r4Q",
        "outputId": "720d6206-1df3-47de-b5a6-29c318fa4e8b",
        "colab": {
          "base_uri": "https://localhost:8080/",
          "height": 34
        }
      },
      "source": [
        "import dns.resolver\n",
        "import dns.reversename\n",
        "\n",
        "\n",
        "domain_address = dns.reversename.from_address('8.8.4.4')\n",
        "# <DNS name 4.4.8.8.in-addr.arpa.>\n",
        "\n",
        "domain_name = str(dns.resolver.resolve(domain_address, 'PTR')[0])\n",
        "print(domain_name)"
      ],
      "execution_count": 16,
      "outputs": [
        {
          "output_type": "stream",
          "text": [
            "dns.google.\n"
          ],
          "name": "stdout"
        }
      ]
    },
    {
      "cell_type": "markdown",
      "metadata": {
        "id": "W8kAgEO_JrPB"
      },
      "source": [
        "QUERIES USING DIFFERENT SERVER"
      ]
    },
    {
      "cell_type": "code",
      "metadata": {
        "id": "gB_v7MuaJp1C",
        "outputId": "0a788c58-571a-47f4-85e5-9e285ea94347",
        "colab": {
          "base_uri": "https://localhost:8080/",
          "height": 34
        }
      },
      "source": [
        "import dns.resolver\n",
        "ans=\"\"\n",
        "my_resolver = dns.resolver.Resolver()\n",
        "\n",
        "# 8.8.8.8 is Google's public DNS server\n",
        "my_resolver.nameservers = ['8.8.8.8']\n",
        "\n",
        "answer = my_resolver.resolve('myntra.com','A')\n",
        "ans=ans+answer.rrset.to_text()\n",
        "print(ans)"
      ],
      "execution_count": 17,
      "outputs": [
        {
          "output_type": "stream",
          "text": [
            "myntra.com. 19 IN A 104.71.49.50\n"
          ],
          "name": "stdout"
        }
      ]
    },
    {
      "cell_type": "code",
      "metadata": {
        "id": "x32PRHveTis1",
        "outputId": "bbaccfcb-08d9-4dac-89e9-50eb013111c6",
        "colab": {
          "base_uri": "https://localhost:8080/",
          "height": 85
        }
      },
      "source": [
        "pip install icmplib"
      ],
      "execution_count": 18,
      "outputs": [
        {
          "output_type": "stream",
          "text": [
            "Collecting icmplib\n",
            "  Downloading https://files.pythonhosted.org/packages/01/4d/a497316d44503109f024549907660e0ee2ba84ac02e3cd89aff243450a0e/icmplib-1.2.2-py3-none-any.whl\n",
            "Installing collected packages: icmplib\n",
            "Successfully installed icmplib-1.2.2\n"
          ],
          "name": "stdout"
        }
      ]
    },
    {
      "cell_type": "code",
      "metadata": {
        "id": "zpLp3qXmTj32",
        "outputId": "1dbe1f32-128b-4dbc-e46c-4f768567c96b",
        "colab": {
          "base_uri": "https://localhost:8080/",
          "height": 68
        }
      },
      "source": [
        "from icmplib import ping, multiping, traceroute, Host, Hop\n",
        "hops = traceroute('1.1.1.1')\n",
        "last_distance = 0\n",
        "for hop in hops:\n",
        "     if last_distance + 1 != hop.distance:\n",
        "         print('Some routers are not responding')\n",
        "     # See the Hop class for details\n",
        "     print(f'{hop.distance}    {hop.address}    {hop.avg_rtt} ms')\n",
        "     last_distance = hop.distance"
      ],
      "execution_count": 19,
      "outputs": [
        {
          "output_type": "stream",
          "text": [
            "1    172.28.0.1    0.11 ms\n",
            "Some routers are not responding\n",
            "5    1.1.1.1    34.437 ms\n"
          ],
          "name": "stdout"
        }
      ]
    },
    {
      "cell_type": "markdown",
      "metadata": {
        "id": "UUhZKm97Jugj"
      },
      "source": [
        "FUNCTIONS FOR GUI"
      ]
    },
    {
      "cell_type": "code",
      "metadata": {
        "id": "wBdVkSFTkKPp",
        "outputId": "da998ae1-0546-4b14-e6bc-dab647c02890",
        "colab": {
          "base_uri": "https://localhost:8080/",
          "height": 52
        }
      },
      "source": [
        "def ipInfo(addr):\n",
        "    ans=\"\"\n",
        "    from urllib.request import urlopen\n",
        "    from json import load\n",
        "    if addr == '':\n",
        "        url = 'https://ipinfo.io/json'\n",
        "    else  :\n",
        "        url = 'https://ipinfo.io/' + addr + '/json'\n",
        "    res = urlopen(url)\n",
        "    #response from url(if res==None then check connection)\n",
        "    data = load(res)\n",
        "    #will load the json response into data\n",
        "    for attr in data.keys():\n",
        "        #will print the data line by line\n",
        "        ans=ans+attr+\" -> \"+data[attr]+\"\\n\"\n",
        "    return ans\n",
        "ipInfo(addr='216.239.63.236')"
      ],
      "execution_count": 20,
      "outputs": [
        {
          "output_type": "execute_result",
          "data": {
            "application/vnd.google.colaboratory.intrinsic+json": {
              "type": "string"
            },
            "text/plain": [
              "'ip -> 216.239.63.236\\ncity -> Mountain View\\nregion -> California\\ncountry -> US\\nloc -> 37.3860,-122.0838\\norg -> AS15169 Google LLC\\npostal -> 94035\\ntimezone -> America/Los_Angeles\\nreadme -> https://ipinfo.io/missingauth\\n'"
            ]
          },
          "metadata": {
            "tags": []
          },
          "execution_count": 20
        }
      ]
    },
    {
      "cell_type": "code",
      "metadata": {
        "id": "4lmrVf588-r0",
        "outputId": "b701c5f5-bc8a-4fd8-f301-3c326ed14b28",
        "colab": {
          "base_uri": "https://localhost:8080/",
          "height": 1000
        }
      },
      "source": [
        "pip install gradio"
      ],
      "execution_count": 21,
      "outputs": [
        {
          "output_type": "stream",
          "text": [
            "Collecting gradio\n",
            "\u001b[?25l  Downloading https://files.pythonhosted.org/packages/39/08/e00fb3038c60a8954d026cdb65ba26b20f0497eeded039e212681c647e67/gradio-1.2.3-py3-none-any.whl (1.0MB)\n",
            "\u001b[K     |████████████████████████████████| 1.0MB 2.8MB/s \n",
            "\u001b[?25hRequirement already satisfied: requests in /usr/local/lib/python3.6/dist-packages (from gradio) (2.23.0)\n",
            "Requirement already satisfied: flask in /usr/local/lib/python3.6/dist-packages (from gradio) (1.1.2)\n",
            "Requirement already satisfied: scipy in /usr/local/lib/python3.6/dist-packages (from gradio) (1.4.1)\n",
            "Requirement already satisfied: pandas in /usr/local/lib/python3.6/dist-packages (from gradio) (1.1.2)\n",
            "Requirement already satisfied: numpy in /usr/local/lib/python3.6/dist-packages (from gradio) (1.18.5)\n",
            "Collecting paramiko\n",
            "\u001b[?25l  Downloading https://files.pythonhosted.org/packages/95/19/124e9287b43e6ff3ebb9cdea3e5e8e88475a873c05ccdf8b7e20d2c4201e/paramiko-2.7.2-py2.py3-none-any.whl (206kB)\n",
            "\u001b[K     |████████████████████████████████| 215kB 18.4MB/s \n",
            "\u001b[?25hRequirement already satisfied: IPython in /usr/local/lib/python3.6/dist-packages (from gradio) (5.5.0)\n",
            "Collecting analytics-python\n",
            "  Downloading https://files.pythonhosted.org/packages/d3/37/c49d052f88655cd96445c36979fb63f69ef859e167eaff5706ca7c8a8ee3/analytics_python-1.2.9-py2.py3-none-any.whl\n",
            "Requirement already satisfied: scikit-image in /usr/local/lib/python3.6/dist-packages (from gradio) (0.16.2)\n",
            "Requirement already satisfied: idna<3,>=2.5 in /usr/local/lib/python3.6/dist-packages (from requests->gradio) (2.10)\n",
            "Requirement already satisfied: certifi>=2017.4.17 in /usr/local/lib/python3.6/dist-packages (from requests->gradio) (2020.6.20)\n",
            "Requirement already satisfied: urllib3!=1.25.0,!=1.25.1,<1.26,>=1.21.1 in /usr/local/lib/python3.6/dist-packages (from requests->gradio) (1.24.3)\n",
            "Requirement already satisfied: chardet<4,>=3.0.2 in /usr/local/lib/python3.6/dist-packages (from requests->gradio) (3.0.4)\n",
            "Requirement already satisfied: itsdangerous>=0.24 in /usr/local/lib/python3.6/dist-packages (from flask->gradio) (1.1.0)\n",
            "Requirement already satisfied: click>=5.1 in /usr/local/lib/python3.6/dist-packages (from flask->gradio) (7.1.2)\n",
            "Requirement already satisfied: Werkzeug>=0.15 in /usr/local/lib/python3.6/dist-packages (from flask->gradio) (1.0.1)\n",
            "Requirement already satisfied: Jinja2>=2.10.1 in /usr/local/lib/python3.6/dist-packages (from flask->gradio) (2.11.2)\n",
            "Requirement already satisfied: python-dateutil>=2.7.3 in /usr/local/lib/python3.6/dist-packages (from pandas->gradio) (2.8.1)\n",
            "Requirement already satisfied: pytz>=2017.2 in /usr/local/lib/python3.6/dist-packages (from pandas->gradio) (2018.9)\n",
            "Collecting bcrypt>=3.1.3\n",
            "\u001b[?25l  Downloading https://files.pythonhosted.org/packages/26/70/6d218afbe4c73538053c1016dd631e8f25fffc10cd01f5c272d7acf3c03d/bcrypt-3.2.0-cp36-abi3-manylinux2010_x86_64.whl (63kB)\n",
            "\u001b[K     |████████████████████████████████| 71kB 8.1MB/s \n",
            "\u001b[?25hCollecting pynacl>=1.0.1\n",
            "\u001b[?25l  Downloading https://files.pythonhosted.org/packages/9d/57/2f5e6226a674b2bcb6db531e8b383079b678df5b10cdaa610d6cf20d77ba/PyNaCl-1.4.0-cp35-abi3-manylinux1_x86_64.whl (961kB)\n",
            "\u001b[K     |████████████████████████████████| 962kB 17.9MB/s \n",
            "\u001b[?25hCollecting cryptography>=2.5\n",
            "\u001b[?25l  Downloading https://files.pythonhosted.org/packages/33/62/30f6936941d87a5ed72efb24249437824f6b2c953901245b58c91fde2f27/cryptography-3.1.1-cp35-abi3-manylinux2010_x86_64.whl (2.6MB)\n",
            "\u001b[K     |████████████████████████████████| 2.6MB 21.1MB/s \n",
            "\u001b[?25hRequirement already satisfied: setuptools>=18.5 in /usr/local/lib/python3.6/dist-packages (from IPython->gradio) (50.3.0)\n",
            "Requirement already satisfied: pickleshare in /usr/local/lib/python3.6/dist-packages (from IPython->gradio) (0.7.5)\n",
            "Requirement already satisfied: pygments in /usr/local/lib/python3.6/dist-packages (from IPython->gradio) (2.6.1)\n",
            "Requirement already satisfied: prompt-toolkit<2.0.0,>=1.0.4 in /usr/local/lib/python3.6/dist-packages (from IPython->gradio) (1.0.18)\n",
            "Requirement already satisfied: simplegeneric>0.8 in /usr/local/lib/python3.6/dist-packages (from IPython->gradio) (0.8.1)\n",
            "Requirement already satisfied: traitlets>=4.2 in /usr/local/lib/python3.6/dist-packages (from IPython->gradio) (4.3.3)\n",
            "Requirement already satisfied: pexpect; sys_platform != \"win32\" in /usr/local/lib/python3.6/dist-packages (from IPython->gradio) (4.8.0)\n",
            "Requirement already satisfied: decorator in /usr/local/lib/python3.6/dist-packages (from IPython->gradio) (4.4.2)\n",
            "Requirement already satisfied: six>=1.5 in /usr/local/lib/python3.6/dist-packages (from analytics-python->gradio) (1.15.0)\n",
            "Requirement already satisfied: matplotlib!=3.0.0,>=2.0.0 in /usr/local/lib/python3.6/dist-packages (from scikit-image->gradio) (3.2.2)\n",
            "Requirement already satisfied: PyWavelets>=0.4.0 in /usr/local/lib/python3.6/dist-packages (from scikit-image->gradio) (1.1.1)\n",
            "Requirement already satisfied: networkx>=2.0 in /usr/local/lib/python3.6/dist-packages (from scikit-image->gradio) (2.5)\n",
            "Requirement already satisfied: imageio>=2.3.0 in /usr/local/lib/python3.6/dist-packages (from scikit-image->gradio) (2.4.1)\n",
            "Requirement already satisfied: pillow>=4.3.0 in /usr/local/lib/python3.6/dist-packages (from scikit-image->gradio) (7.0.0)\n",
            "Requirement already satisfied: MarkupSafe>=0.23 in /usr/local/lib/python3.6/dist-packages (from Jinja2>=2.10.1->flask->gradio) (1.1.1)\n",
            "Requirement already satisfied: cffi>=1.1 in /usr/local/lib/python3.6/dist-packages (from bcrypt>=3.1.3->paramiko->gradio) (1.14.3)\n",
            "Requirement already satisfied: wcwidth in /usr/local/lib/python3.6/dist-packages (from prompt-toolkit<2.0.0,>=1.0.4->IPython->gradio) (0.2.5)\n",
            "Requirement already satisfied: ipython-genutils in /usr/local/lib/python3.6/dist-packages (from traitlets>=4.2->IPython->gradio) (0.2.0)\n",
            "Requirement already satisfied: ptyprocess>=0.5 in /usr/local/lib/python3.6/dist-packages (from pexpect; sys_platform != \"win32\"->IPython->gradio) (0.6.0)\n",
            "Requirement already satisfied: cycler>=0.10 in /usr/local/lib/python3.6/dist-packages (from matplotlib!=3.0.0,>=2.0.0->scikit-image->gradio) (0.10.0)\n",
            "Requirement already satisfied: pyparsing!=2.0.4,!=2.1.2,!=2.1.6,>=2.0.1 in /usr/local/lib/python3.6/dist-packages (from matplotlib!=3.0.0,>=2.0.0->scikit-image->gradio) (2.4.7)\n",
            "Requirement already satisfied: kiwisolver>=1.0.1 in /usr/local/lib/python3.6/dist-packages (from matplotlib!=3.0.0,>=2.0.0->scikit-image->gradio) (1.2.0)\n",
            "Requirement already satisfied: pycparser in /usr/local/lib/python3.6/dist-packages (from cffi>=1.1->bcrypt>=3.1.3->paramiko->gradio) (2.20)\n",
            "Installing collected packages: bcrypt, pynacl, cryptography, paramiko, analytics-python, gradio\n",
            "Successfully installed analytics-python-1.2.9 bcrypt-3.2.0 cryptography-3.1.1 gradio-1.2.3 paramiko-2.7.2 pynacl-1.4.0\n"
          ],
          "name": "stdout"
        }
      ]
    },
    {
      "cell_type": "markdown",
      "metadata": {
        "id": "1cvaLpigmYHb"
      },
      "source": [
        "FOR PTR RECORD"
      ]
    },
    {
      "cell_type": "code",
      "metadata": {
        "id": "5AaxeuobpbYM"
      },
      "source": [
        "import dns.resolver\n",
        "import dns.reversename\n",
        "def IPfunction(IPad,IPlist):\n",
        "  ans=\"\"\n",
        "  if IPad==\"\":\n",
        "    return \"IP address not entered!\"\n",
        "  if len(IPlist)==0:\n",
        "    return \"None selected\"\n",
        "  for i in IPlist:\n",
        "    if i==\"PTR Record\":\n",
        "      ans=ans+\"PTR Record\"+\"\\n\"\n",
        "      try:\n",
        "        domain_address = dns.reversename.from_address(IPad)\n",
        "# <DNS name 4.4.8.8.in-addr.arpa.>\n",
        "        ans=ans+str(dns.resolver.resolve(domain_address, 'PTR')[0])+\"\\n\"\n",
        "      except:\n",
        "        ans=\"NOT AVAILABLE\"+\"\\n\"\n",
        "    elif i=='Trace IP':\n",
        "      ans=ans+\"Trace IP\"+\"\\n\"\n",
        "      ans=ans+ipInfo(IPad)\n",
        "  return ans\n"
      ],
      "execution_count": 22,
      "outputs": []
    },
    {
      "cell_type": "markdown",
      "metadata": {
        "id": "fHOR-o3qmbJU"
      },
      "source": [
        "FOR WHO IS RECORDS"
      ]
    },
    {
      "cell_type": "code",
      "metadata": {
        "id": "B_6c7PRYp3si",
        "outputId": "5eac76fb-9a43-4a68-9b91-0a1ed36ae313",
        "colab": {
          "base_uri": "https://localhost:8080/",
          "height": 204
        }
      },
      "source": [
        "pip install python-whois"
      ],
      "execution_count": 23,
      "outputs": [
        {
          "output_type": "stream",
          "text": [
            "Collecting python-whois\n",
            "\u001b[?25l  Downloading https://files.pythonhosted.org/packages/4b/c6/85268f0cef6a1c7e466140437c8fe49eb12c203d9a31be6d2976a29c7266/python-whois-0.7.3.tar.gz (91kB)\n",
            "\r\u001b[K     |███▋                            | 10kB 7.7MB/s eta 0:00:01\r\u001b[K     |███████▏                        | 20kB 1.7MB/s eta 0:00:01\r\u001b[K     |██████████▊                     | 30kB 2.2MB/s eta 0:00:01\r\u001b[K     |██████████████▎                 | 40kB 2.5MB/s eta 0:00:01\r\u001b[K     |██████████████████              | 51kB 2.0MB/s eta 0:00:01\r\u001b[K     |█████████████████████▌          | 61kB 2.3MB/s eta 0:00:01\r\u001b[K     |█████████████████████████       | 71kB 2.5MB/s eta 0:00:01\r\u001b[K     |████████████████████████████▋   | 81kB 2.7MB/s eta 0:00:01\r\u001b[K     |████████████████████████████████| 92kB 2.4MB/s \n",
            "\u001b[?25hRequirement already satisfied: future in /usr/local/lib/python3.6/dist-packages (from python-whois) (0.16.0)\n",
            "Building wheels for collected packages: python-whois\n",
            "  Building wheel for python-whois (setup.py) ... \u001b[?25l\u001b[?25hdone\n",
            "  Created wheel for python-whois: filename=python_whois-0.7.3-cp36-none-any.whl size=87704 sha256=6982aeeba43b6bcdecc58d58ec02178040f76a66932534b119cb16fd7d93685c\n",
            "  Stored in directory: /root/.cache/pip/wheels/12/3c/9b/901b7deea1fa960f9abfd84df82414dff215c4a1d6869bcea2\n",
            "Successfully built python-whois\n",
            "Installing collected packages: python-whois\n",
            "Successfully installed python-whois-0.7.3\n"
          ],
          "name": "stdout"
        }
      ]
    },
    {
      "cell_type": "code",
      "metadata": {
        "id": "FVnBvMu5p86N"
      },
      "source": [
        " # pip install python-whois\n",
        "def is_registered(domain_name):\n",
        "    import whois\n",
        "    \"\"\"\n",
        "    A function that returns a boolean indicating \n",
        "    whether a `domain_name` is registered\n",
        "    \"\"\"\n",
        "    try:\n",
        "        w = whois.whois(domain_name)\n",
        "    except Exception:\n",
        "        return False\n",
        "    return bool(w.domain_name)"
      ],
      "execution_count": 24,
      "outputs": []
    },
    {
      "cell_type": "code",
      "metadata": {
        "id": "HvP32vYreLZq",
        "outputId": "30e0c8bc-4b79-4d16-cfe8-4ac9a92f33e5",
        "colab": {
          "base_uri": "https://localhost:8080/",
          "height": 34
        }
      },
      "source": [
        "is_registered(\"google.com\")"
      ],
      "execution_count": 25,
      "outputs": [
        {
          "output_type": "execute_result",
          "data": {
            "text/plain": [
              "True"
            ]
          },
          "metadata": {
            "tags": []
          },
          "execution_count": 25
        }
      ]
    },
    {
      "cell_type": "code",
      "metadata": {
        "id": "Eep4Vx8GqA83"
      },
      "source": [
        "#domain_name=\"iitjammu.ac.in\"\n",
        "\n",
        "def whois_function(domain_name):\n",
        "  import whois \n",
        "  if domain_name==\"\":\n",
        "    return \"WHOIS input is empty!!\"\n",
        "  if is_registered(domain_name):\n",
        "    return (str(whois.whois(domain_name)))\n",
        "  else:\n",
        "    return \"Domain not Registered\"\n"
      ],
      "execution_count": 26,
      "outputs": []
    },
    {
      "cell_type": "code",
      "metadata": {
        "id": "fOyNY05_Waj8",
        "outputId": "df04b765-459e-488c-e78e-72bcfe223cab",
        "colab": {
          "base_uri": "https://localhost:8080/",
          "height": 34
        }
      },
      "source": [
        "pip install icmplib"
      ],
      "execution_count": 27,
      "outputs": [
        {
          "output_type": "stream",
          "text": [
            "Requirement already satisfied: icmplib in /usr/local/lib/python3.6/dist-packages (1.2.2)\n"
          ],
          "name": "stdout"
        }
      ]
    },
    {
      "cell_type": "code",
      "metadata": {
        "id": "hchBJz4RWZWp"
      },
      "source": [
        ""
      ],
      "execution_count": 27,
      "outputs": []
    },
    {
      "cell_type": "code",
      "metadata": {
        "id": "iv1CfHsFULfV"
      },
      "source": [
        "def traceroute_function(domain):\n",
        "  import socket\n",
        "  from icmplib import ping, multiping, traceroute, Host, Hop\n",
        "  ip=str(socket.gethostbyname(domain))\n",
        "  hops =traceroute(\"157.240.210.35\", count=3, interval=0.05, timeout=2, traffic_class=0, max_hops=30)\n",
        "  last_distance = 0\n",
        "  ans=\"\"\n",
        "  for hop in hops:\n",
        "     if last_distance + 1 != hop.distance:\n",
        "         ans=ans+'Some routers are not responding'+\"\\n\"\n",
        "     # See the Hop class for details\n",
        "     ans=ans+\" \"+str(hop.distance)+\" \"+hop.address+\" \"+str(hop.avg_rtt)+\" ms\"+\"\\n\"\n",
        "     last_distance = hop.distance\n",
        "  return ans"
      ],
      "execution_count": 28,
      "outputs": []
    },
    {
      "cell_type": "code",
      "metadata": {
        "id": "-pSQqHyoJRzI"
      },
      "source": [
        "domain=\"www.google.com\"\n",
        "response = None\n",
        "            # create the query\n",
        "query = dns.message.make_query(domain, dns.rdatatype.A, dns.rdataclass.IN)\n",
        "            # unset the recurse flag \n",
        "query.flags ^= dns.flags.RD\n",
        "\n",
        "try:\n",
        "    response = dns.query.udp(query, \"8.8.8.8\")\n",
        "except :\n",
        "    response = []"
      ],
      "execution_count": 29,
      "outputs": []
    },
    {
      "cell_type": "code",
      "metadata": {
        "id": "224rjJ8NJa6O",
        "outputId": "84db1383-34a7-4e1d-c06e-76593dae73bc",
        "colab": {
          "base_uri": "https://localhost:8080/",
          "height": 170
        }
      },
      "source": [
        "print(response.to_text())"
      ],
      "execution_count": 30,
      "outputs": [
        {
          "output_type": "stream",
          "text": [
            "id 50588\n",
            "opcode QUERY\n",
            "rcode SERVFAIL\n",
            "flags QR RA\n",
            ";QUESTION\n",
            "www.google.com. IN A\n",
            ";ANSWER\n",
            ";AUTHORITY\n",
            ";ADDITIONAL\n"
          ],
          "name": "stdout"
        }
      ]
    },
    {
      "cell_type": "code",
      "metadata": {
        "id": "-FVvE05IKZoB",
        "outputId": "1689c7bc-ef78-49c9-88e4-04a5242139cd",
        "colab": {
          "base_uri": "https://localhost:8080/",
          "height": 34
        }
      },
      "source": [
        "print(int(dns.flags.RA))"
      ],
      "execution_count": 31,
      "outputs": [
        {
          "output_type": "stream",
          "text": [
            "128\n"
          ],
          "name": "stdout"
        }
      ]
    },
    {
      "cell_type": "code",
      "metadata": {
        "id": "UF_3AcxahdOx",
        "outputId": "970eb618-ba7f-4051-e1ff-f17fe77896b3",
        "colab": {
          "base_uri": "https://localhost:8080/",
          "height": 187
        }
      },
      "source": [
        "pip install scapy"
      ],
      "execution_count": 32,
      "outputs": [
        {
          "output_type": "stream",
          "text": [
            "Collecting scapy\n",
            "\u001b[?25l  Downloading https://files.pythonhosted.org/packages/c6/8f/438d4d0bab4c8e22906a7401dd082b4c0f914daf2bbdc7e7e8390d81a5c3/scapy-2.4.4.tar.gz (1.0MB)\n",
            "\u001b[K     |████████████████████████████████| 1.0MB 2.5MB/s \n",
            "\u001b[?25hBuilding wheels for collected packages: scapy\n",
            "  Building wheel for scapy (setup.py) ... \u001b[?25l\u001b[?25hdone\n",
            "  Created wheel for scapy: filename=scapy-2.4.4-py2.py3-none-any.whl size=1189182 sha256=4eadeb5d2ba4ec93dfbdb5fa79d092ffa030ec7355740b38a8b5f20fc0c2bcc8\n",
            "  Stored in directory: /root/.cache/pip/wheels/2c/e7/01/f097df99ac9cd0d4f744c255f918d471d7a4b0766bc84c38c3\n",
            "Successfully built scapy\n",
            "Installing collected packages: scapy\n",
            "Successfully installed scapy-2.4.4\n"
          ],
          "name": "stdout"
        }
      ]
    },
    {
      "cell_type": "code",
      "metadata": {
        "id": "MAkiUAx33ws3"
      },
      "source": [
        "from scapy.all import *"
      ],
      "execution_count": 33,
      "outputs": []
    },
    {
      "cell_type": "code",
      "metadata": {
        "id": "Ul3otcOiG9RW"
      },
      "source": [
        "def other_function(Domain,Other):\n",
        "  if Domain==\"\":\n",
        "    return \"Domain name not entered\"\n",
        "  if len(Other)==0:\n",
        "    return \"No functionalities selected\"\n",
        "  ans=\"\"\n",
        "  for i in Other:\n",
        "    if i==\"WHO IS\":\n",
        "      ans=ans+\"WHO IS\"+\"\\n\"\n",
        "      ans=ans+whois_function(Domain)+\"\\n\"\n",
        "    elif i==\"Trace Route\":\n",
        "      ans=ans+\"Trace Route\"+\"\\n\"\n",
        "      ans=ans+traceroute_function(Domain)+\"\\n\"\n",
        "  return ans"
      ],
      "execution_count": 34,
      "outputs": []
    },
    {
      "cell_type": "markdown",
      "metadata": {
        "id": "2pg4MSJqme-T"
      },
      "source": [
        "FOR CHANGING THE SERVER FOR QUERY"
      ]
    },
    {
      "cell_type": "code",
      "metadata": {
        "id": "YKd6_By9Z9Bq"
      },
      "source": [
        "import dns.resolver\n",
        "def server_query(domain,server,Records):\n",
        "  if domain==\"\":\n",
        "    return \"Domain name not Entered!\"\n",
        "  ans=\"\"\n",
        "  if server==\"Google Public DNS\":\n",
        "    server_ip=\"8.8.8.8\"\n",
        "  elif server==\"OpenDNS\":\n",
        "    server_ip=\"208.67.222.222\"\n",
        "  elif server==\"Cloudflare\":\n",
        "    server_ip=\"1.1.1.1\"\n",
        "  elif server==\"Comodo Secure DNS\":\n",
        "    server_ip=\" 8.26.56.26\"\n",
        "  \"\"\"elif server==\"Quad9\":\n",
        "    server_ip=\" 149.112.112.112\"\n",
        "  elif server==\"Verisign DNS\":\n",
        "    server_ip=\" 64.6.64.6\"\"\"\"\"\n",
        "  my_resolver = dns.resolver.Resolver()\n",
        "# 8.8.8.8 is Google's public DNS server\n",
        "  my_resolver.nameservers = [server_ip]\n",
        "  if len(Records)==0:\n",
        "    return \"No record is selected\"\n",
        "  for rec in Records:\n",
        "    try:\n",
        "      answer = my_resolver.resolve(domain,rec)\n",
        "      ans=ans+answer.rrset.to_text()+\"\\n\"\n",
        "    except:\n",
        "      ans=ans+rec+\" Not Available through this server\"+\"\\n\"\n",
        "  return(ans)"
      ],
      "execution_count": 35,
      "outputs": []
    },
    {
      "cell_type": "code",
      "metadata": {
        "id": "fJinKeKSagXO"
      },
      "source": [
        "#server_query(\"www.google.com\",\"8.8.8.8\")"
      ],
      "execution_count": 36,
      "outputs": []
    },
    {
      "cell_type": "markdown",
      "metadata": {
        "id": "-h9XN7eEmNeu"
      },
      "source": [
        "GREETING FUNCTION"
      ]
    },
    {
      "cell_type": "code",
      "metadata": {
        "id": "4OTrXRg9mQf1"
      },
      "source": [
        "def greet():\n",
        "  s=\"Hello New User!!....Welcome to our DNS Record query platform\"+ \"\\n\"+ \"Here you can do many things! like... \\n 1. Give a domain name to fetch it's various DNS records.\\n    A: Gives Ipv4 and TTL \\n    AAAA: Gives IPv6 and TTL \\n    CNAME: Gives alias name and TTL\\n    MX:'mail exchange' (MX) record directs email to a mail server, has priority number, email id and TTL\\n    SOA:‘start of authority’ (SOA) record stores important information about a domain or zone like MNAME, RNAME, SERIAL, RETRY, REFRESH, EXPIRE and TTL\\n    NS:nameserver record indicates which DNS server is authoritative for that domain and NS records can never point to a canonical name (CNAME) record.\\n    TXT: This record lets a domain administrator enter text into the DNS \\n 2. You can also see the inputs obtained by the DNS resolver when it goes to different name servers \\n 3. If you can memorize ;P then give us an IP address and we'll fetch PTR records and the trace IP for you \\n 4. You can even try WHO IS to know the complete features of a domain \\n 5. Knowing the query results from different DNS servers is also possible!\"\n",
        "  return s"
      ],
      "execution_count": 37,
      "outputs": []
    },
    {
      "cell_type": "markdown",
      "metadata": {
        "id": "0fGihpCJmRxv"
      },
      "source": [
        "MAIN ANSWER FUNCTION"
      ]
    },
    {
      "cell_type": "code",
      "metadata": {
        "id": "iaclvZy5m6oE"
      },
      "source": [
        "def answer_question(Domain,Records,Resolver,IPaddress,IPoptions,Other,Servers):\n",
        "  rec=\"\"\n",
        "  res=\"\"\n",
        "  if Domain==\"\":\n",
        "    return (greet(),\"Domain Name not entered\",\"Domain Name not entered\",IPfunction(IPaddress,IPoptions),other_function(Domain,Other),server_query(Domain,Servers,Records))\n",
        "  if len(Records)==0:\n",
        "    rec= \"No record is selected\"\n",
        "  else:\n",
        "    for qtype in Records:\n",
        "        answer = dns.resolver.resolve(Domain,qtype, raise_on_no_answer=False)\n",
        "        if answer.rrset is not None:\n",
        "          rec=rec+answer.rrset.to_text()+\"\\n\"\n",
        "        else:\n",
        "          rec=rec+qtype+\" NOT AVAILABLE\"+\"\\n\"\n",
        "  dict,\n",
        "  if len(Resolver)==0:\n",
        "    res=\"No queries from Resolver\"\n",
        "  else:\n",
        "    for qtype in Resolver:\n",
        "      if (qtype==\"Root name servers\"):\n",
        "        res=res+\"Root name servers\"+\"\\n\"\n",
        "        from tld import get_tld\n",
        "        url = 'https://'+Domain #URL to strip. Change this URL to whatever you want.\n",
        "        res = res+(get_tld(url, as_object=True).fld)+\"\\n\" #Get the root as an object\n",
        "        #print (res.fld) #res.fld to extract the domain\n",
        "      if (qtype==\"Top Level Domain\"):\n",
        "        res=res+\"Top Level Domains\"+\"\\n\"\n",
        "        from tld import get_tld\n",
        "        res=res+get_tld(\"http://\"+Domain, fail_silently=True)+\"\\n\"\n",
        "      if (qtype==\"Authoritative name server\"):\n",
        "        res=res+\"Authoritative name server\"+\"\\n\"\n",
        "        try:\n",
        "          answer = dns.resolver.resolve(Domain,\"NS\")\n",
        "          for ns in answer:\n",
        "            res=res+ns.to_text()+\"\\n\"\n",
        "        except:\n",
        "            res=res+\"Not Available\"+\"\\n\"\n",
        "\n",
        "  return (greet(),rec,res,IPfunction(IPaddress,IPoptions),other_function(Domain,Other),server_query(Domain,Servers,Records))"
      ],
      "execution_count": 38,
      "outputs": []
    },
    {
      "cell_type": "code",
      "metadata": {
        "id": "gQc-add2q0WZ"
      },
      "source": [
        "#answer_question(\"www.google.com\",[\"MX\"])"
      ],
      "execution_count": 39,
      "outputs": []
    },
    {
      "cell_type": "code",
      "metadata": {
        "id": "mcyeAP_0SO8j"
      },
      "source": [
        "import gradio"
      ],
      "execution_count": 40,
      "outputs": []
    },
    {
      "cell_type": "code",
      "metadata": {
        "id": "SsNNXtTSeq2h",
        "outputId": "aa3dd674-a3e6-4938-c3b4-d54b28e868b1",
        "colab": {
          "base_uri": "https://localhost:8080/",
          "height": 640
        }
      },
      "source": [
        "Records=gradio.inputs.CheckboxGroup(['A', 'AAAA', 'CNAME','MX', 'NS', 'SOA', 'TXT'])\n",
        "Resolver=gradio.inputs.CheckboxGroup([\"Root name servers\",\"Top Level Domain\",\"Authoritative name server\"],label=\"Name Server\")\n",
        "IP_options=gradio.inputs.CheckboxGroup(['PTR Record', 'Trace IP'],label=\"From IP Address\")\n",
        "Other=gradio.inputs.CheckboxGroup(['WHO IS', 'Trace Route'],label=\"Other functionalities\")\n",
        "Servers=gradio.inputs.Dropdown([\"Google Public DNS\",\"OpenDNS\",\"Cloudflare\",\"Comodo Secure DNS\"], label=\"Server for query\")\n",
        "gradio.Interface(fn=answer_question,allow_flagging=False, inputs=[\"text\",Records,Resolver,\"text\",IP_options,Other,Servers], outputs=[gradio.outputs.Textbox(type=\"auto\", label=\"INTRO FOR YOU!! Just give a domain hit submit!\"),gradio.outputs.Textbox(type=\"auto\", label=\"Records selected output\"),gradio.outputs.Textbox(type=\"auto\", label=\"DNS Query output\"),gradio.outputs.Textbox(type=\"auto\", label=\"FRom IP Address\"),gradio.outputs.Textbox(type=\"auto\", label=\"Other Functions OUTPUT\"),gradio.outputs.Textbox(type=\"auto\", label=\"Query from Server output\")]\n",
        ").launch() "
      ],
      "execution_count": 41,
      "outputs": [
        {
          "output_type": "stream",
          "text": [
            "Colab notebook detected. To show errors in colab notebook, set debug=True in launch()\n",
            "This share link will expire in 6 hours. If you need a permanent link, email support@gradio.app\n",
            "Running on External URL: https://50950.gradio.app\n",
            "Interface loading below...\n"
          ],
          "name": "stdout"
        },
        {
          "output_type": "display_data",
          "data": {
            "text/html": [
              "\n",
              "        <iframe\n",
              "            width=\"1000\"\n",
              "            height=\"500\"\n",
              "            src=\"https://50950.gradio.app\"\n",
              "            frameborder=\"0\"\n",
              "            allowfullscreen\n",
              "        ></iframe>\n",
              "        "
            ],
            "text/plain": [
              "<IPython.lib.display.IFrame at 0x7ff23654a7f0>"
            ]
          },
          "metadata": {
            "tags": []
          }
        },
        {
          "output_type": "execute_result",
          "data": {
            "text/plain": [
              "(<Flask 'gradio.networking'>,\n",
              " 'http://127.0.0.1:7860/',\n",
              " 'https://50950.gradio.app')"
            ]
          },
          "metadata": {
            "tags": []
          },
          "execution_count": 41
        }
      ]
    }
  ]
}